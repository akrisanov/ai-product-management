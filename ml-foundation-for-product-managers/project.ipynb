{
  "metadata": {
    "kernelspec": {
      "name": "python3",
      "display_name": "Python 3 (ipykernel)",
      "language": "python"
    },
    "language_info": {
      "name": "python",
      "version": "3.12.3",
      "mimetype": "text/x-python",
      "codemirror_mode": {
        "name": "ipython",
        "version": 3
      },
      "pygments_lexer": "ipython3",
      "nbconvert_exporter": "python",
      "file_extension": ".py"
    }
  },
  "nbformat_minor": 5,
  "nbformat": 4,
  "cells": [
    {
      "id": "f3b33e94-7ea5-423e-85f7-ea3249a7eb57",
      "cell_type": "markdown",
      "source": "# Machine Learning Foundations for Product Manager",
      "metadata": {}
    },
    {
      "id": "18b1be44-9b2b-4a0e-a302-e38694905ffd",
      "cell_type": "markdown",
      "source": "## Project topic\n\nIn this project we will build a model to predict the electrical energy output of a [Combined Cycle Power Plant](https://www.wikiwand.com/en/articles/Combined_cycle_power_plant), which uses a combination of gas turbines, steam turbines, and heat recovery steam generators to generate power.  We have a set of 9568 hourly average ambient environmental readings from sensors at the power plant which we will use in our model.\n\nThe columns in the data consist of hourly average ambient variables:\n- Temperature (T) in the range 1.81\u00b0C to 37.11\u00b0C,\n- Ambient Pressure (AP) in the range 992.89-1033.30 milibar,\n- Relative Humidity (RH) in the range 25.56% to 100.16%\n- Exhaust Vacuum (V) in the range 25.36-81.56 cm Hg\n- Net hourly electrical energy output (PE) 420.26-495.76 MW (Target we are trying to predict)\n\nThe dataset may be downloaded as [a csv file](https://storage.googleapis.com/aipi_datasets/CCPP_data.csv).\n\nData source:\n\n- P\u0131nar T\u00fcfekci, Prediction of full load electrical power output of a base load operated combined cycle power plant using machine learning methods, International Journal of Electrical Power & Energy Systems, Volume 60, September 2014, Pages 126-140, ISSN 0142-0615.\n- Heysem Kaya, P\u0131nar T\u00fcfekci , Sad\u0131k Fikret G\u00fcrgen: Local and Global Learning Methods for Predicting Power of a Combined Gas & Steam Turbine, Proceedings of the International Conference on Emerging Trends in Computer and Electronics Engineering ICETCEE 2012, pp. 13-18 (Mar. 2012, Dubai)",
      "metadata": {}
    },
    {
      "id": "6456cf26-8ef0-48f7-bea4-0b30aecdf195",
      "cell_type": "markdown",
      "source": "## Selecting the type of ML approach\n\n- The dataset we use in this project provides observations organized as structured data (a table in the CSV file)\n- The dataset includes five continuous columns; four columns can be used to train a model, therefore we have four features\n- The PE column represents values we want to predict for new data \u2013 it will be our target\n- The problem we are solving here is a prediction problem, hence a regression problem\n- To evaluate our model we can use Root Mean Squared Error (RMSE), which is sensitive to large errors and quite interpretable since it\u2019s in the same unit as the target variable",
      "metadata": {}
    },
    {
      "id": "dae868d1-d454-49e1-8735-c9a80ad59963",
      "cell_type": "markdown",
      "source": "## Features and possible ML algorithms\n\nTo predict the electrical energy output of a Combined Cycle Power Plant, we can use all four features: \n\n- Temperature (T) in the range 1.81\u00b0C to 37.11\u00b0C\n- Ambient Pressure (AP) in the range 992.89-1033.30 milibar\n- Relative Humidity (RH) in the range 25.56% to 100.16%\n- Exhaust Vacuum (V) in the range 25.36-81.56 cm Hg\n\nWe can try the following models:\n\n- Linear Regression and its variants, which could be a good baseline\n- Tree-based models like Random Forest Regressor and Gradient Boosting Regressor, which are effective for handling nonlinear relationships\n\nSince our dataset doesn't have complex relationships in the data, using neural networks will be overkill.",
      "metadata": {}
    },
    {
      "id": "ba870851-7609-4de0-a507-d27dcf2ad668",
      "cell_type": "markdown",
      "source": "## Validation strategy for comparing different models",
      "metadata": {}
    },
    {
      "id": "213a44b1-7ba6-452b-98f9-54f9524533f4",
      "cell_type": "markdown",
      "source": "Given the dataset size, 5-Fold Cross-Validation can offer a robust performance comparison among models without being overly computationally expensive. This will provide a more generalized performance estimate across various subsets of the data, helping ensure that the model selection process isn\u2019t dependent on one particular data split.",
      "metadata": {}
    },
    {
      "id": "8a62720c-525c-4709-b4d3-626ec1dfea61",
      "cell_type": "markdown",
      "source": "## Comparing models",
      "metadata": {}
    },
    {
      "id": "7aa3183c-f43a-4f61-a97d-8d04d6abf785",
      "cell_type": "code",
      "source": "import numpy as np\nimport pandas as pd\nfrom sklearn.model_selection import KFold, cross_val_score, train_test_split\nfrom sklearn.linear_model import LinearRegression\nfrom sklearn.ensemble import GradientBoostingRegressor, RandomForestRegressor",
      "metadata": {
        "trusted": true
      },
      "outputs": [],
      "execution_count": 1
    },
    {
      "id": "3c5d0aa2-4baf-4adc-aa53-896cfc21f9eb",
      "cell_type": "code",
      "source": "# Load the dataset\ndata = pd.read_csv('CCPP_data.csv')",
      "metadata": {
        "trusted": true
      },
      "outputs": [],
      "execution_count": 2
    },
    {
      "id": "54b3219c-e018-4f51-a857-abf5b1eb0fcd",
      "cell_type": "code",
      "source": "# Split the dataset: 80% for training, 20% for testing\ntrain_data, test_data = train_test_split(data, test_size=0.2, random_state=42)",
      "metadata": {
        "trusted": true
      },
      "outputs": [],
      "execution_count": 3
    },
    {
      "id": "1350dc62-9d89-44b5-a43f-62a6fc536295",
      "cell_type": "code",
      "source": "# Define the features (X) and target (y) variables for the training set\nX = train_data.drop(columns=['PE'])  # Assuming 'PE' is the target column for energy output\ny = train_data['PE']\n\n# Define models to compare\nmodels = {\n    'Linear Regression': LinearRegression(),\n    'Random Forest Regressor': RandomForestRegressor(random_state=42),\n    'Gradient Boosting Regressor': GradientBoostingRegressor(random_state=42)\n}\n\n# Dictionary to store the mean RMSE for each model\nmodel_scores = {}",
      "metadata": {
        "trusted": true
      },
      "outputs": [],
      "execution_count": 4
    },
    {
      "id": "9d4b0670-891d-4048-9135-2e581fbdfa95",
      "cell_type": "code",
      "source": "# Set up 5-Fold Cross-Validation\nkf = KFold(n_splits=5, shuffle=True, random_state=42)\n\n# Perform 5-Fold Cross-Validation for each model and store the mean RMSE\nfor model_name, model in models.items():\n    # Cross-validate and calculate RMSE\n    cv_scores = cross_val_score(model, X, y, cv=kf, scoring='neg_root_mean_squared_error')\n    mean_rmse = -np.mean(cv_scores)  # Convert to positive RMSE\n    model_scores[model_name] = mean_rmse",
      "metadata": {
        "trusted": true
      },
      "outputs": [],
      "execution_count": 5
    },
    {
      "id": "1b83264a-70fb-4d1c-ad31-6deea897ac65",
      "cell_type": "code",
      "source": "# Print the RMSE for each model\nprint(\"Model RMSE Scores:\")\nfor model_name, score in model_scores.items():\n    print(f\"{model_name}: {score}\")",
      "metadata": {
        "trusted": true
      },
      "outputs": [
        {
          "name": "stdout",
          "text": "Model RMSE Scores:\nLinear Regression: 4.5721058283634095\nRandom Forest Regressor: 3.4601575562911058\nGradient Boosting Regressor: 3.9210927380231175\n",
          "output_type": "stream"
        }
      ],
      "execution_count": 6
    },
    {
      "id": "15386665-1ac6-4efb-b100-d492024a3010",
      "cell_type": "code",
      "source": "# Find the model with the lowest mean RMSE\nbest_model_name = min(model_scores, key=model_scores.get)\nbest_model_rmse = model_scores[best_model_name]\n\nprint(f\"\\nBest Model: {best_model_name}\")\nprint(f\"RMSE: {best_model_rmse}\")",
      "metadata": {
        "trusted": true
      },
      "outputs": [
        {
          "name": "stdout",
          "text": "\nBest Model: Random Forest Regressor\nRMSE: 3.4601575562911058\n",
          "output_type": "stream"
        }
      ],
      "execution_count": 7
    },
    {
      "id": "52c3edd9-3d5f-42c1-922e-055b50cdba8f",
      "cell_type": "markdown",
      "source": "## Evaluating performance of Random Forest Regressor",
      "metadata": {}
    },
    {
      "id": "18146097-d00f-4e15-9fb6-903c3d685428",
      "cell_type": "markdown",
      "source": "Given that the Random Forest Regressor has the lowest RMSE (3.46), we\u2019ll select it as the final model. To evaluate its performance on the held-out test set, we\u2019ll train the Random Forest Regressor on the full training set and then calculate the RMSE on the test set.",
      "metadata": {}
    },
    {
      "id": "2807fbfb-c5e4-4cde-8bf6-46ba50e78761",
      "cell_type": "code",
      "source": "from sklearn.metrics import mean_squared_error\n\n# Define the features (X_train and X_test) and target (y_train and y_test)\nX_train = train_data.drop(columns=['PE'])\ny_train = train_data['PE']\nX_test = test_data.drop(columns=['PE'])\ny_test = test_data['PE']\n\n# Train the final model (Random Forest Regressor) on the full training data\nfinal_model = RandomForestRegressor(random_state=42)\nfinal_model.fit(X_train, y_train)\n\n# Predict on the test set\ny_pred = final_model.predict(X_test)\n\n# Calculate RMSE on the test set\ntest_rmse = np.sqrt(mean_squared_error(y_test, y_pred))\nprint(f\"Test RMSE for Random Forest Regressor: {test_rmse}\")",
      "metadata": {
        "trusted": true
      },
      "outputs": [
        {
          "name": "stdout",
          "text": "Test RMSE for Random Forest Regressor: 3.2432202566089683\n",
          "output_type": "stream"
        }
      ],
      "execution_count": 9
    },
    {
      "id": "a68d860a-9836-4fc4-b45a-9bd104a06f4a",
      "cell_type": "markdown",
      "source": "The Test RMSE indicates that the model performs well on unseen data.",
      "metadata": {}
    }
  ]
}